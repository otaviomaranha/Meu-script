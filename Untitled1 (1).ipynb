{
  "nbformat": 4,
  "nbformat_minor": 0,
  "metadata": {
    "colab": {
      "provenance": []
    },
    "kernelspec": {
      "name": "python3",
      "display_name": "Python 3"
    },
    "language_info": {
      "name": "python"
    }
  },
  "cells": [
    {
      "cell_type": "code",
      "source": [
        "def calculadora():\n",
        "    while True:\n",
        "        print(\"\\nSelecione a operação:\")\n",
        "        print(\"1. Soma\")\n",
        "        print(\"2. Subtração\")\n",
        "        print(\"3. Multiplicação\")\n",
        "        print(\"4. Divisão\")\n",
        "        print(\"5. Sair\")\n",
        "\n",
        "        escolha = input(\"Digite sua escolha (1/2/3/4/5): \")\n",
        "\n",
        "        if escolha == '5':\n",
        "            print(\"Saindo da calculadora. Volte sempre!\")\n",
        "            break\n",
        "\n",
        "        if escolha in ('1', '2', '3', '4'):\n",
        "            try:\n",
        "                num1 = float(input(\"Digite o primeiro número: \"))\n",
        "                num2 = float(input(\"Digite o segundo número: \"))\n",
        "\n",
        "                if escolha == '1':\n",
        "                    resultado = num1 + num2\n",
        "                    print(f\"O resultado da soma é: {resultado}\")\n",
        "\n",
        "                elif escolha == '2':\n",
        "                    resultado = num1 - num2\n",
        "                    print(f\"O resultado da subtração é: {resultado}\")\n",
        "\n",
        "                elif escolha == '3':\n",
        "                    resultado = num1 * num2\n",
        "                    print(f\"O resultado da multiplicação é: {resultado}\")\n",
        "\n",
        "                elif escolha == '4':\n",
        "                    if num2 == 0:\n",
        "                        print(\"Erro: Divisão por zero não é permitida.\")\n",
        "                    else:\n",
        "                        resultado = num1 / num2\n",
        "                        print(f\"O resultado da divisão é: {resultado}\")\n",
        "\n",
        "            except ValueError:\n",
        "                print(\"Por favor, insira números válidos.\")\n",
        "        else:\n",
        "            print(\"Escolha inválida! Tente novamente.\")\n",
        "\n",
        "calculadora()\n"
      ],
      "metadata": {
        "colab": {
          "base_uri": "https://localhost:8080/"
        },
        "id": "YvdpxV6-kqut",
        "outputId": "dd7c3fca-d51f-41e3-8bca-ccefbda41724"
      },
      "execution_count": null,
      "outputs": [
        {
          "output_type": "stream",
          "name": "stdout",
          "text": [
            "\n",
            "Selecione a operação:\n",
            "1. Soma\n",
            "2. Subtração\n",
            "3. Multiplicação\n",
            "4. Divisão\n",
            "5. Sair\n"
          ]
        }
      ]
    }
  ]
}